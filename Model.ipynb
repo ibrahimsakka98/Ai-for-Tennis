{
 "cells": [
  {
   "cell_type": "code",
   "execution_count": 1,
   "metadata": {},
   "outputs": [],
   "source": [
    "import pandas as pd\n",
    "import numpy as np\n",
    "from collections import defaultdict\n",
    "import catboost\n",
    " "
   ]
  },
  {
   "cell_type": "code",
   "execution_count": 2,
   "metadata": {},
   "outputs": [],
   "source": [
    "df = pd.read_csv('https://raw.githubusercontent.com/JeffSackmann/tennis_MatchChartingProject/master/charting-m-points.csv',encoding= 'unicode_escape',low_memory=False)"
   ]
  },
  {
   "cell_type": "code",
   "execution_count": 3,
   "metadata": {},
   "outputs": [],
   "source": [
    "df2 = pd.read_csv('https://raw.githubusercontent.com/JeffSackmann/tennis_MatchChartingProject/master/charting-m-matches.csv', quoting = 3, error_bad_lines = False, encoding = 'unicode_escape')"
   ]
  },
  {
   "cell_type": "markdown",
   "metadata": {},
   "source": [
    "# Select Player of Choice and Tournamets of Choice(Federer Example)"
   ]
  },
  {
   "cell_type": "code",
   "execution_count": null,
   "metadata": {},
   "outputs": [],
   "source": [
    "df4 = df2[df2['Tournament'].str.contains('Wimbledon|Australian Open|US Open|Roland Garros')]\n",
    "pd.pandas.set_option('display.max_columns', None)\n",
    "df3 = pd.merge(df, df4, on='match_id')\n",
    "rf = df3[df3['match_id'].str.contains(\"Roger_Federer\")]\n",
    "rf_server = rf[(rf['Serving'] == 'RF')]\n",
    "rf_server\n",
    "\n"
   ]
  },
  {
   "cell_type": "code",
   "execution_count": null,
   "metadata": {},
   "outputs": [],
   "source": [
    "rf_not = rf[(rf['Serving'] != 'RF')]\n",
    "rf_not\n"
   ]
  },
  {
   "cell_type": "markdown",
   "metadata": {},
   "source": [
    "# Extract Point Ending Shots from Player of Choice when they Serve"
   ]
  },
  {
   "cell_type": "code",
   "execution_count": 4,
   "metadata": {},
   "outputs": [],
   "source": [
    "def test_f(string, point_winner, surface, main_df):\n",
    "    \n",
    "    test = []\n",
    "    position = ['1','1']\n",
    "    shot_direction = ['']\n",
    "    \n",
    "    if len(string) < 6:\n",
    "        return main_df\n",
    "    \n",
    "    \n",
    "    string = string.replace('7','')\n",
    "    string = string.replace('8','')\n",
    "    string = string.replace('9','')\n",
    "    string = string.replace('-', '')\n",
    "    string = string.replace('=', '')\n",
    "    string = string.replace('+', '')\n",
    "    string = string.replace('d', '')\n",
    "    string = string.replace(';', '')\n",
    "    string = string.replace('*', '')\n",
    "    string = string.replace('!', '')\n",
    "    string = string.replace('^', '')\n",
    "    string = string.replace('@', '')\n",
    "    string = string.replace('#', '')\n",
    "\n",
    "\n",
    "    \n",
    "   \n",
    "\n",
    "\n",
    "    \n",
    "    \n",
    "    \n",
    "    for i in range(len(string)):\n",
    "        \n",
    "        if string[i] in ('*','#','@','n','w','d','x','g','!','e'):\n",
    "            break\n",
    "        elif string[i] == '4':\n",
    "            test.append('out wide')\n",
    "        elif string[i] == '5':\n",
    "            test.append('body')\n",
    "        elif string[i] == '6':\n",
    "            test.append('down the t')\n",
    "        \n",
    "        elif string[i] == 'f':\n",
    "            test.append('forehand groundstoke')\n",
    "        elif string[i] == 'b':\n",
    "            test.append('backhand groundstroke')\n",
    "        elif string[i] == 'r':\n",
    "            test.append('forehand slice')\n",
    "        elif string[i] == 's':\n",
    "            test.append('backhand slice')\n",
    "        elif string[i] == 'v':\n",
    "            test.append('forehand volley')\n",
    "        elif string[i] == 'z':\n",
    "            test.append('backhand volley')\n",
    "        elif string[i] == 'o':\n",
    "            test.append('forehand overhead')\n",
    "        elif string[i] == 'p':\n",
    "            test.append('backhand overhead')\n",
    "        elif string[i] == 'u':\n",
    "            test.append('forehand dropshot')\n",
    "        elif string[i] == 'y':\n",
    "            test.append('backhand dropshot')\n",
    "        elif string[i] == 'l':\n",
    "            test.append('forehand lob')\n",
    "        elif string[i] == 'm':\n",
    "            test.append('backhand lob')\n",
    "        elif string[i] == 'h':\n",
    "            test.append('forehand half volley')\n",
    "        elif string[i] == 'i':\n",
    "            test.append('backhand half volley')\n",
    "        elif string[i] == 'j':\n",
    "            test.append('forehand swing volley')\n",
    "        elif string[i] == 'k':\n",
    "            test.append('backhand swing volley')\n",
    "        elif string[i] == 't':\n",
    "            test.append('tick shot')\n",
    "        elif string[i] == 'q':\n",
    "            test.append('unknown shot')\n",
    "            \n",
    "        elif string[i] in ('1','2','3'):\n",
    "            if string[i] == '1':\n",
    "                shot_direction.append('right')\n",
    "            elif string[i] == '2':\n",
    "                shot_direction.append('middle')\n",
    "            elif string[i] == '3':\n",
    "                shot_direction.append('left')\n",
    "            if string[i-1] in ('f','b','r','s','l','m','t','u','y') and string[i-2] == '1':\n",
    "                position.append('1')\n",
    "            elif string[i-1] in ('f','b','r','s','l','m','t','u','y') and string[i-2] == '2':\n",
    "                position.append('2')\n",
    "            elif string[i-1] in ('f','b','r','s','l','m','t','u','y') and string[i-2] == '3':\n",
    "                position.append('3')\n",
    "            elif string[i-1] == '+'  and string[i-2] in ('f','b','r','s','l','m','t','u','y') and string[i-3] == '1':\n",
    "                position.append('4')\n",
    "            elif string[i-1] == '+'  and string[i-2] in ('f','b','r','s','l','m','t','u','y') and string[i-3] == '2':\n",
    "                position.append('5')\n",
    "            elif string[i-1] == '+'  and string[i-2] in ('f','b','r','s','l','m','t','u','y') and string[i-3] == '3':\n",
    "                position.append('6')\n",
    "            elif string[i-1] in ('v','z','h','i','j','k','o','p') and string[i-2] == '1':\n",
    "                position.append('4')\n",
    "            elif string[i-1] in ('v','z','h','i','j','k','o','p') and string[i-2] == '2':\n",
    "                position.append('5')\n",
    "            elif string[i-1] in ('v','z','h','i','j','k','o','p') and string[i-2] == '3':\n",
    "                position.append('6')\n",
    "                \n",
    "    raw = defaultdict(list)\n",
    "    shot = test\n",
    "    position = position\n",
    "    direction = shot_direction\n",
    "    rally_length = len(shot)\n",
    "\n",
    "    \n",
    "    \n",
    "    try:\n",
    "        if len(direction) != len(shot):\n",
    "            raise Exception(f\"Direction: {shot}, {direction}\")\n",
    "        if len(position) != len(shot):\n",
    "            raise Exception(f\"Position: {shot}, {position}\")\n",
    "        \n",
    "        \n",
    "        \n",
    "        #index = len(shot) - 2\n",
    "        #if index <= 0:\n",
    "            #index = 2\n",
    "    \n",
    "            \n",
    "        if len(shot) % 2 == 0:\n",
    "            #checking if even\n",
    "            shot.pop()\n",
    "            direction.pop()\n",
    "            position.pop()\n",
    "        \n",
    "        raw['Rally'].append(rally_length) #Rally Count\n",
    "        raw['Serving'] = ['yes'] #Is the player of interest serving?\n",
    "        raw['Outgoing Shot'].append(shot[len(shot)-1]) #players outgoing shot\n",
    "        raw['Serve'].append(shot[0]) # serve type\n",
    "        raw['My Prev'].append(position[len(position)-1]) #players position\n",
    "        raw['Second Prev'].append(position[len(position)-3]) #players previous position\n",
    "        raw['Incoming Shot'].append(shot[len(shot)-2]) #opponents incoming shot\n",
    "        raw['Incoming Direction'].append(direction[len(direction)-2]) #opponents incoming shot direction\n",
    "        raw['Opponent Previous'].append(position[len(position)-2]) #opponents  position\n",
    "        raw['Opponent_2nd'].append(position[len(position)-4]) #opponents previous position\n",
    "        raw['Outgoing Direction'].append(direction[len(direction)-1]) #players outgoing shot direction\n",
    "        raw['Prev Shot'].append(shot[len(shot)-3]) #players previous shot\n",
    "        raw['Point Winner'].append(point_winner) #did the player win the point? 1/0\n",
    "        raw['Surface'].append(surface) #surface type\n",
    "        \n",
    "        \n",
    "\n",
    "\n",
    "    \n",
    "    except Exception as e:\n",
    "        \n",
    "        print(string, e, shot, direction, position)\n",
    "        \n",
    "        return main_df\n",
    "\n",
    " \n",
    "\n",
    "    df1 = pd.DataFrame.from_dict(raw)\n",
    "    main_df = main_df.append(df1, ignore_index=True)\n",
    "    \n",
    "\n",
    "    return main_df\n",
    "\n",
    "    \n",
    "    \n",
    "    \n",
    "            "
   ]
  },
  {
   "cell_type": "code",
   "execution_count": null,
   "metadata": {},
   "outputs": [],
   "source": [
    "\n",
    "new = new = rf_server[['1st','2nd','isSvrWinner','Surface']]\n",
    "new.count()\n"
   ]
  },
  {
   "cell_type": "code",
   "execution_count": null,
   "metadata": {},
   "outputs": [],
   "source": [
    "list_of_rallies = []\n",
    "columns = ['My Prev', 'Incoming Shot', 'Incoming Direction', 'Opponent Previous', 'Outgoing Direction', 'Outgoing Shot','Point Winner','Rally','Serving']\n",
    "\n",
    "df_ = pd.DataFrame(columns=columns)\n",
    "\n",
    "for i, row in new.iterrows():\n",
    "    \n",
    "    try:\n",
    "        if pd.isnull(row['2nd']) == True:\n",
    "            res = row['1st']\n",
    "            df_ = test_f(res, row['isSvrWinner'], row['Surface'],df_)\n",
    "            \n",
    "        \n",
    "\n",
    "\n",
    "\n",
    "        else:\n",
    "            res = row['2nd']\n",
    "            df_ = test_f(res, row['isSvrWinner'], row['Surface'],df_)\n",
    "            #list_of_rallies.append((new.iloc[i,1]))\n",
    "    except Exception as e:\n",
    "        print(e)\n",
    "        continue\n"
   ]
  },
  {
   "cell_type": "code",
   "execution_count": null,
   "metadata": {},
   "outputs": [],
   "source": [
    "df_['Surface'].fillna(value = 'Grass', inplace=True)\n",
    "\n",
    "df_.count()"
   ]
  },
  {
   "cell_type": "markdown",
   "metadata": {},
   "source": [
    "# Extract Point Ending Shots from Player of Interest when they are recieving"
   ]
  },
  {
   "cell_type": "code",
   "execution_count": 5,
   "metadata": {},
   "outputs": [],
   "source": [
    "def test_f_2(string, point_winner, surface, main_df):\n",
    "    \n",
    "    test = []\n",
    "    position = ['1','1']\n",
    "    shot_direction = ['']\n",
    "    \n",
    "    if len(string) < 6:\n",
    "        return main_df\n",
    "    \n",
    "    \n",
    "    string = string.replace('7','')\n",
    "    string = string.replace('8','')\n",
    "    string = string.replace('9','')\n",
    "    string = string.replace('-', '')\n",
    "    string = string.replace('=', '')\n",
    "    string = string.replace('+', '')\n",
    "    string = string.replace('d', '')\n",
    "    string = string.replace(';', '')\n",
    "    string = string.replace('*', '')\n",
    "    string = string.replace('!', '')\n",
    "    string = string.replace('^', '')\n",
    "    string = string.replace('@', '')\n",
    "    string = string.replace('#', '')\n",
    "\n",
    "\n",
    "    \n",
    "   \n",
    "\n",
    "\n",
    "    \n",
    "    \n",
    "    \n",
    "    for i in range(len(string)):\n",
    "        \n",
    "        if string[i] in ('*','#','@','n','w','d','x','g','!','e'):\n",
    "            break\n",
    "        elif string[i] == '4':\n",
    "            test.append('out wide')\n",
    "        elif string[i] == '5':\n",
    "            test.append('body')\n",
    "        elif string[i] == '6':\n",
    "            test.append('down the t')\n",
    "        \n",
    "        elif string[i] == 'f':\n",
    "            test.append('forehand groundstoke')\n",
    "        elif string[i] == 'b':\n",
    "            test.append('backhand groundstroke')\n",
    "        elif string[i] == 'r':\n",
    "            test.append('forehand slice')\n",
    "        elif string[i] == 's':\n",
    "            test.append('backhand slice')\n",
    "        elif string[i] == 'v':\n",
    "            test.append('forehand volley')\n",
    "        elif string[i] == 'z':\n",
    "            test.append('backhand volley')\n",
    "        elif string[i] == 'o':\n",
    "            test.append('forehand overhead')\n",
    "        elif string[i] == 'p':\n",
    "            test.append('backhand overhead')\n",
    "        elif string[i] == 'u':\n",
    "            test.append('forehand dropshot')\n",
    "        elif string[i] == 'y':\n",
    "            test.append('backhand dropshot')\n",
    "        elif string[i] == 'l':\n",
    "            test.append('forehand lob')\n",
    "        elif string[i] == 'm':\n",
    "            test.append('backhand lob')\n",
    "        elif string[i] == 'h':\n",
    "            test.append('forehand half volley')\n",
    "        elif string[i] == 'i':\n",
    "            test.append('backhand half volley')\n",
    "        elif string[i] == 'j':\n",
    "            test.append('forehand swing volley')\n",
    "        elif string[i] == 'k':\n",
    "            test.append('backhand swing volley')\n",
    "        elif string[i] == 't':\n",
    "            test.append('tick shot')\n",
    "        elif string[i] == 'q':\n",
    "            test.append('unknown shot')\n",
    "            \n",
    "        elif string[i] in ('1','2','3'):\n",
    "            if string[i] == '1':\n",
    "                shot_direction.append('right')\n",
    "            elif string[i] == '2':\n",
    "                shot_direction.append('middle')\n",
    "            elif string[i] == '3':\n",
    "                shot_direction.append('left')\n",
    "            if string[i-1] in ('f','b','r','s','l','m','t','u','y') and string[i-2] == '1':\n",
    "                position.append('1')\n",
    "            elif string[i-1] in ('f','b','r','s','l','m','t','u','y') and string[i-2] == '2':\n",
    "                position.append('2')\n",
    "            elif string[i-1] in ('f','b','r','s','l','m','t','u','y') and string[i-2] == '3':\n",
    "                position.append('3')\n",
    "            elif string[i-1] == '+'  and string[i-2] in ('f','b','r','s','l','m','t','u','y') and string[i-3] == '1':\n",
    "                position.append('4')\n",
    "            elif string[i-1] == '+'  and string[i-2] in ('f','b','r','s','l','m','t','u','y') and string[i-3] == '2':\n",
    "                position.append('5')\n",
    "            elif string[i-1] == '+'  and string[i-2] in ('f','b','r','s','l','m','t','u','y') and string[i-3] == '3':\n",
    "                position.append('6')\n",
    "            elif string[i-1] in ('v','z','h','i','j','k','o','p') and string[i-2] == '1':\n",
    "                position.append('4')\n",
    "            elif string[i-1] in ('v','z','h','i','j','k','o','p') and string[i-2] == '2':\n",
    "                position.append('5')\n",
    "            elif string[i-1] in ('v','z','h','i','j','k','o','p') and string[i-2] == '3':\n",
    "                position.append('6')\n",
    "                \n",
    "    raw = defaultdict(list)\n",
    "    shot = test\n",
    "    position = position\n",
    "    direction = shot_direction\n",
    "    rally_length = len(shot)\n",
    "\n",
    "    \n",
    "    \n",
    "    try:\n",
    "        if len(direction) != len(shot):\n",
    "            raise Exception(f\"Direction: {shot}, {direction}\")\n",
    "        if len(position) != len(shot):\n",
    "            raise Exception(f\"Position: {shot}, {position}\")\n",
    "        \n",
    "        \n",
    "        \n",
    "        #index = len(shot) - 2\n",
    "        #if index <= 0:\n",
    "            #index = 2\n",
    "    \n",
    "            \n",
    "        if len(shot) % 2 != 0:\n",
    "            #checking if even\n",
    "            shot.pop()\n",
    "            direction.pop()\n",
    "            position.pop()\n",
    "        \n",
    "        raw['Rally'].append(rally_length)\n",
    "        raw['Serving'] = ['No']\n",
    "        raw['Outgoing Shot'].append(shot[len(shot)-1])\n",
    "        raw['Serve'].append(shot[0])\n",
    "        raw['My Prev'].append(position[len(position)-1])\n",
    "        raw['Second Prev'].append(position[len(position)-3])\n",
    "        raw['Incoming Shot'].append(shot[len(shot)-2])\n",
    "        raw['Incoming Direction'].append(direction[len(direction)-2])\n",
    "        raw['Opponent Previous'].append(position[len(position)-2])\n",
    "        raw['Opponent_2nd'].append(position[len(position)-4])\n",
    "        raw['Outgoing Direction'].append(direction[len(direction)-1])\n",
    "        raw['Prev Shot'].append(shot[len(shot)-3])\n",
    "        raw['Point Winner'].append(point_winner)\n",
    "        raw['Surface'].append(surface)\n",
    "        \n",
    "        \n",
    "\n",
    "\n",
    "    \n",
    "    except Exception as e:\n",
    "        \n",
    "        print(string, e, shot, direction, position)\n",
    "        \n",
    "        return main_df\n",
    "\n",
    " \n",
    "\n",
    "    df1 = pd.DataFrame.from_dict(raw)\n",
    "    main_df = main_df.append(df1, ignore_index=True)\n",
    "    \n",
    "\n",
    "    return main_df\n",
    "\n",
    "    \n",
    "    \n",
    "    \n",
    "            "
   ]
  },
  {
   "cell_type": "code",
   "execution_count": null,
   "metadata": {},
   "outputs": [],
   "source": [
    "\n",
    "new2 = new2 = rf_not[['1st','2nd','isSvrWinner','Surface']]\n",
    "new2.count()\n"
   ]
  },
  {
   "cell_type": "code",
   "execution_count": null,
   "metadata": {},
   "outputs": [],
   "source": [
    "list_of_rallies = []\n",
    "columns = ['Serve','My Prev', 'Incoming Shot', 'Incoming Direction', 'Opponent Previous', 'Outgoing Direction', 'Outgoing Shot','Point Winner','Rally','Serving']\n",
    "\n",
    "df_2 = pd.DataFrame(columns=columns)\n",
    "\n",
    "for i, row in new2.iterrows():\n",
    "    \n",
    "    if row['isSvrWinner'] == 0:\n",
    "        row['isSvrWinner'] = 1\n",
    "    elif row['isSvrWinner'] == 1:\n",
    "        row['isSvrWinner'] = 0\n",
    "    try:\n",
    "        if pd.isnull(row['2nd']) == True:\n",
    "            res = row['1st']\n",
    "            df_2 = test_f_2(res, row['isSvrWinner'], row['Surface'],df_2)\n",
    "            \n",
    "        \n",
    "\n",
    "\n",
    "\n",
    "        else:\n",
    "            res = row['2nd']\n",
    "            df_2 = test_f_2(res, row['isSvrWinner'], row['Surface'],df_2)\n",
    "            #list_of_rallies.append((new.iloc[i,1]))\n",
    "    except Exception as e:\n",
    "        print(e)\n",
    "        continue\n"
   ]
  },
  {
   "cell_type": "markdown",
   "metadata": {},
   "source": [
    "# Combine Both Datasets"
   ]
  },
  {
   "cell_type": "code",
   "execution_count": null,
   "metadata": {},
   "outputs": [],
   "source": [
    "roger = pd.concat([df_, df_2], ignore_index=False)\n",
    "roger.count()"
   ]
  },
  {
   "cell_type": "markdown",
   "metadata": {},
   "source": [
    "# Convert to a csv file"
   ]
  },
  {
   "cell_type": "code",
   "execution_count": null,
   "metadata": {},
   "outputs": [],
   "source": [
    "roger.to_csv ('roger.csv', index = False, header=True)\n"
   ]
  },
  {
   "cell_type": "markdown",
   "metadata": {},
   "source": [
    "Once you export all the player of interests shot ending points into csv's you can begin the next step, this tutorial will use Federer, Djokovic and Murrays point ending shots"
   ]
  },
  {
   "cell_type": "markdown",
   "metadata": {},
   "source": [
    "# Combining the datasets and preparing the x & y matricies"
   ]
  },
  {
   "cell_type": "code",
   "execution_count": null,
   "metadata": {},
   "outputs": [],
   "source": [
    "data = pd.read_csv('murray.csv')\n"
   ]
  },
  {
   "cell_type": "code",
   "execution_count": null,
   "metadata": {},
   "outputs": [],
   "source": [
    "data2 = pd.read_csv('roger.csv')\n"
   ]
  },
  {
   "cell_type": "code",
   "execution_count": null,
   "metadata": {},
   "outputs": [],
   "source": [
    "data3 = pd.read_csv('novak.csv')\n"
   ]
  },
  {
   "cell_type": "code",
   "execution_count": null,
   "metadata": {},
   "outputs": [],
   "source": [
    "full = pd.concat([data, data2], ignore_index=False)\n",
    "full.count()"
   ]
  },
  {
   "cell_type": "code",
   "execution_count": null,
   "metadata": {},
   "outputs": [],
   "source": [
    "full = pd.concat([full, data3], ignore_index=False)\n",
    "full = full.dropna()\n",
    "full.count()"
   ]
  },
  {
   "cell_type": "code",
   "execution_count": null,
   "metadata": {},
   "outputs": [],
   "source": [
    "y = full['Point Winner']\n",
    "full['Rally'] = full['Rally'].astype('int')\n",
    "full.dropna(inplace = True)\n",
    "full.count()\n"
   ]
  },
  {
   "cell_type": "code",
   "execution_count": null,
   "metadata": {},
   "outputs": [],
   "source": [
    "full['My Prev'] = full['My Prev'].astype('object')\n",
    "full['Opponent Previous'] = full['Opponent Previous'].astype('object')\n",
    "full['Second Prev'] = full['Second Prev'].astype('object')\n",
    "full['Opponent_2nd'] = full['Opponent_2nd'].astype('object')\n",
    "\n",
    "\n",
    "full.dtypes"
   ]
  },
  {
   "cell_type": "code",
   "execution_count": null,
   "metadata": {},
   "outputs": [],
   "source": [
    "X = full.drop(['Point Winner'], axis=1)\n",
    "X"
   ]
  },
  {
   "cell_type": "markdown",
   "metadata": {},
   "source": [
    "# Encoding Features"
   ]
  },
  {
   "cell_type": "code",
   "execution_count": null,
   "metadata": {},
   "outputs": [],
   "source": [
    "from category_encoders.target_encoder import TargetEncoder\n",
    "\n",
    "tree_data=full.copy()\n",
    "for col in tree_data.select_dtypes(include='O').columns:\n",
    "    te=TargetEncoder()\n",
    "    tree_data[col]=te.fit_transform(tree_data[col],y)"
   ]
  },
  {
   "cell_type": "markdown",
   "metadata": {},
   "source": [
    "# Train-Test Split"
   ]
  },
  {
   "cell_type": "code",
   "execution_count": null,
   "metadata": {},
   "outputs": [],
   "source": [
    "from sklearn.model_selection import train_test_split\n",
    "\n",
    "X_train1, X_test1, y_train1, y_test1 = train_test_split(tree_data.loc[:, tree_data.columns != 'Point Winner']\n",
    ", tree_data['Point Winner'], test_size = 0.3, random_state=101)"
   ]
  },
  {
   "cell_type": "markdown",
   "metadata": {},
   "source": [
    "# Building an optimal decision tree"
   ]
  },
  {
   "cell_type": "markdown",
   "metadata": {},
   "source": [
    "A full sized tree is first built using binary recursive splitting. Cost complexity pruning is used to produce multiple subtrees for range of values of alpha. The best value for alpha is then selected using cross validation. Finally, the optimal subtree that corresponds to this alpha is then outputted."
   ]
  },
  {
   "cell_type": "code",
   "execution_count": null,
   "metadata": {},
   "outputs": [],
   "source": [
    "model2 = DecisionTreeClassifier(criterion='entropy', min_samples_leaf=5)\n",
    "path = model2.cost_complexity_pruning_path(X_train1, y_train1)\n",
    "alphas = path.ccp_alphas"
   ]
  },
  {
   "cell_type": "code",
   "execution_count": null,
   "metadata": {},
   "outputs": [],
   "source": [
    "from sklearn.model_selection import RandomizedSearchCV, GridSearchCV\n",
    "\n",
    "model2 = DecisionTreeClassifier(criterion='entropy', min_samples_leaf=5)\n",
    "\n",
    "search_space = {\n",
    "    'ccp_alpha': alphas,\n",
    "}\n",
    "\n",
    "tree_search = RandomizedSearchCV(model2, search_space, cv = 5 , scoring='neg_log_loss')\n",
    "tree_search.fit(X_train1, y_train1)\n",
    "tree2 = tree_search.best_estimator_\n",
    "\n",
    "print('Best parameters found by grid search:', tree_search.best_params_, '\\n')"
   ]
  },
  {
   "cell_type": "code",
   "execution_count": null,
   "metadata": {},
   "outputs": [],
   "source": [
    "#visualize the tree\n",
    "\n",
    "import graphviz\n",
    "from sklearn.tree import export_graphviz\n",
    "\n",
    "dot_data = export_graphviz(tree2, out_file=None , impurity=False, feature_names = predictors,\n",
    "                           class_names=['0','1'], rounded=True) \n",
    "graph = graphviz.Source(dot_data)\n",
    "graph.render('tree02') # saves tree to a file\n",
    "graph\n"
   ]
  },
  {
   "cell_type": "code",
   "execution_count": null,
   "metadata": {},
   "outputs": [],
   "source": [
    "#evaluate tree\n",
    "tree_pred = tree2.predict(X_test1)\n",
    "from sklearn import metrics\n",
    "\n",
    "print(metrics.roc_auc_score(y_test, tree_pred))\n",
    "print()"
   ]
  },
  {
   "cell_type": "markdown",
   "metadata": {},
   "source": [
    "# CatBoost"
   ]
  },
  {
   "cell_type": "code",
   "execution_count": null,
   "metadata": {},
   "outputs": [],
   "source": [
    "from sklearn.model_selection import train_test_split\n",
    "\n",
    "X_train, X_test, y_train, y_test = train_test_split(full.loc[:, full.columns != 'Point Winner']\n",
    ", full['Point Winner'], test_size = 0.3, random_state=101)\n"
   ]
  },
  {
   "cell_type": "code",
   "execution_count": null,
   "metadata": {},
   "outputs": [],
   "source": [
    "X_train\n",
    "categorical_features_indices = np.where(X_train.dtypes != np.int)[0]\n",
    "categorical_features_indices"
   ]
  },
  {
   "cell_type": "code",
   "execution_count": null,
   "metadata": {},
   "outputs": [],
   "source": [
    "from catboost import CatBoostClassifier\n",
    "model = CatBoostClassifier(\n",
    "    #custom_loss=['AUC', 'Accuracy'],\n",
    "    iterations = 100,\n",
    "\n",
    "    loss_function='Logloss'\n",
    ")"
   ]
  },
  {
   "cell_type": "code",
   "execution_count": null,
   "metadata": {},
   "outputs": [],
   "source": [
    "y_train=y_train.astype('int')\n",
    "y_test = y_test.astype('int')"
   ]
  },
  {
   "cell_type": "code",
   "execution_count": null,
   "metadata": {},
   "outputs": [],
   "source": [
    "from sklearn.model_selection import RandomizedSearchCV, GridSearchCV\n",
    "from scipy.stats import uniform as sp_randFloat\n",
    "from scipy.stats import uniform as sp_randInt\n",
    "from scipy.stats import randint\n",
    "from scipy.stats import uniform as unif\n",
    "\n",
    "\n",
    "\n"
   ]
  },
  {
   "cell_type": "code",
   "execution_count": null,
   "metadata": {},
   "outputs": [],
   "source": [
    "parameters = {\n",
    "    'learning_rate': unif(0.005,0.1), # uniform distribution between 0.005 and 0.1\n",
    "    #'n_estimators' : randint(10, 1000), # discrete uniform distribution between 100 and 2500\n",
    "    'depth': randint(2,12)\n",
    "}\n",
    "\n",
    "Grid_CBC = RandomizedSearchCV(estimator=model, param_distributions = parameters,\n",
    "                               cv = 5, n_jobs=-1)\n",
    "Grid_CBC.fit(X_train, y_train,\n",
    "            cat_features=categorical_features_indices)"
   ]
  },
  {
   "cell_type": "code",
   "execution_count": null,
   "metadata": {},
   "outputs": [],
   "source": [
    "print('Best parameters found by randomised search:', Grid_CBC.best_params_, '\\n')\n"
   ]
  },
  {
   "cell_type": "code",
   "execution_count": null,
   "metadata": {},
   "outputs": [],
   "source": [
    "from catboost import CatBoostClassifier, Pool, metrics, cv\n",
    "\n",
    "model = CatBoostClassifier(\n",
    "    depth = 11,\n",
    "    learning_rate = 0.03211884497138581,\n",
    "    n_estimators = 2000,\n",
    "    custom_loss=[metrics.AUC()],\n",
    "\n",
    "    loss_function='Logloss'\n",
    ")\n",
    "model.fit(X_train, y_train, cat_features=categorical_features_indices,logging_level='Verbose',\n",
    "    eval_set=(X_test, y_test), plot=True)"
   ]
  },
  {
   "cell_type": "code",
   "execution_count": null,
   "metadata": {},
   "outputs": [],
   "source": [
    "model.get_feature_importance(prettified=True)\n"
   ]
  },
  {
   "cell_type": "markdown",
   "metadata": {},
   "source": [
    "# Another Implementation of Gradient Boosting"
   ]
  },
  {
   "cell_type": "code",
   "execution_count": null,
   "metadata": {},
   "outputs": [],
   "source": [
    "y_train1=y_train1.astype('int')\n",
    "y_test1 = y_test1.astype('int')"
   ]
  },
  {
   "cell_type": "code",
   "execution_count": null,
   "metadata": {},
   "outputs": [],
   "source": [
    "import lightgbm as lgb\n",
    "from scipy.stats import uniform as unif\n",
    "from scipy.stats import randint\n",
    "from sklearn.model_selection import RandomizedSearchCV\n",
    "\n",
    "\n",
    "\n",
    "model = lgb.LGBMClassifier()\n",
    "\n",
    "search_space = {\n",
    "    'learning_rate': unif(0.005,0.1), # uniform distribution between 0.005 and 0.1\n",
    "    'n_estimators' : randint(100, 2501), # discrete uniform distribution between 100 and 2500\n",
    "    'num_leaves' : randint(2, 100), # discrete uniform distribution between 2 and 4\n",
    "    'subsample' : unif(0.5, 1), # uniform distribution between 0.5 and 1\n",
    "    'max_depth': randint(2,100),\n",
    "}\n",
    "\n",
    "\n",
    "lbst = RandomizedSearchCV(model, search_space, n_iter = 64, cv = 5, n_jobs=4, random_state=1)\n",
    "lbst.fit(X_train, y_train)\n",
    "\n",
    "\n"
   ]
  },
  {
   "cell_type": "code",
   "execution_count": null,
   "metadata": {},
   "outputs": [],
   "source": [
    "print('Best parameters found by randomised search:', lbst.best_params_, '\\n')\n"
   ]
  },
  {
   "cell_type": "code",
   "execution_count": null,
   "metadata": {},
   "outputs": [],
   "source": [
    "y_pred=lbst.predict(X_test1)\n",
    "from sklearn import metrics\n",
    "y_test1=y_test1.astype('int')\n",
    "\n",
    "print(metrics.roc_auc_score(y_test1, y_pred))\n"
   ]
  }
 ],
 "metadata": {
  "kernelspec": {
   "display_name": "Python 3",
   "language": "python",
   "name": "python3"
  },
  "language_info": {
   "codemirror_mode": {
    "name": "ipython",
    "version": 3
   },
   "file_extension": ".py",
   "mimetype": "text/x-python",
   "name": "python",
   "nbconvert_exporter": "python",
   "pygments_lexer": "ipython3",
   "version": "3.6.10"
  }
 },
 "nbformat": 4,
 "nbformat_minor": 4
}
